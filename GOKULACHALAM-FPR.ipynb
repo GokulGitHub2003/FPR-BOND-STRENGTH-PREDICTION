{
 "cells": [
  {
   "cell_type": "code",
   "execution_count": 1,
   "metadata": {
    "executionInfo": {
     "elapsed": 352,
     "status": "ok",
     "timestamp": 1655223920760,
     "user": {
      "displayName": "20ad030_Prakash Raja",
      "userId": "02035033576982408941"
     },
     "user_tz": -330
    },
    "id": "JBmlsXEeSy_x"
   },
   "outputs": [],
   "source": [
    "import pandas as pd\n",
    "import numpy as np\n",
    "import matplotlib.pyplot as plt"
   ]
  },
  {
   "cell_type": "code",
   "execution_count": 2,
   "metadata": {
    "executionInfo": {
     "elapsed": 358,
     "status": "ok",
     "timestamp": 1655223922657,
     "user": {
      "displayName": "20ad030_Prakash Raja",
      "userId": "02035033576982408941"
     },
     "user_tz": -330
    },
    "id": "jK19LidUjTyH"
   },
   "outputs": [],
   "source": [
    "from sklearn.model_selection import cross_val_score\n",
    "from sklearn.datasets import make_blobs\n",
    "from sklearn.ensemble import RandomForestRegressor\n",
    "from sklearn.ensemble import ExtraTreesRegressor\n",
    "from sklearn.tree import DecisionTreeRegressor\n",
    "from sklearn.model_selection import train_test_split\n",
    "from sklearn.metrics import mean_squared_error"
   ]
  },
  {
   "cell_type": "code",
   "execution_count": 3,
   "metadata": {
    "executionInfo": {
     "elapsed": 371,
     "status": "ok",
     "timestamp": 1655223925569,
     "user": {
      "displayName": "20ad030_Prakash Raja",
      "userId": "02035033576982408941"
     },
     "user_tz": -330
    },
    "id": "iK4EQyc7kuQf"
   },
   "outputs": [],
   "source": [
    "dp=pd.read_csv(\"C:\\\\Users\\\\Gokul\\Desktop\\\\frp model\\\\bond-strength-dataset V4.csv\",encoding='unicode_escape')"
   ]
  },
  {
   "cell_type": "code",
   "execution_count": 4,
   "metadata": {},
   "outputs": [
    {
     "data": {
      "text/html": [
       "<div>\n",
       "<style scoped>\n",
       "    .dataframe tbody tr th:only-of-type {\n",
       "        vertical-align: middle;\n",
       "    }\n",
       "\n",
       "    .dataframe tbody tr th {\n",
       "        vertical-align: top;\n",
       "    }\n",
       "\n",
       "    .dataframe thead th {\n",
       "        text-align: right;\n",
       "    }\n",
       "</style>\n",
       "<table border=\"1\" class=\"dataframe\">\n",
       "  <thead>\n",
       "    <tr style=\"text-align: right;\">\n",
       "      <th></th>\n",
       "      <th>No.</th>\n",
       "      <th>(mm)</th>\n",
       "      <th>(Mpa)</th>\n",
       "      <th>(Gpa)</th>\n",
       "      <th>(mm).1</th>\n",
       "      <th>(mm).2</th>\n",
       "      <th>(mm).3</th>\n",
       "      <th>(kN)</th>\n",
       "    </tr>\n",
       "  </thead>\n",
       "  <tbody>\n",
       "    <tr>\n",
       "      <th>0</th>\n",
       "      <td>1</td>\n",
       "      <td>100.0</td>\n",
       "      <td>40.80</td>\n",
       "      <td>230.0</td>\n",
       "      <td>0.110</td>\n",
       "      <td>50.0</td>\n",
       "      <td>75.0</td>\n",
       "      <td>5.80</td>\n",
       "    </tr>\n",
       "    <tr>\n",
       "      <th>1</th>\n",
       "      <td>2</td>\n",
       "      <td>100.0</td>\n",
       "      <td>40.80</td>\n",
       "      <td>230.0</td>\n",
       "      <td>0.110</td>\n",
       "      <td>50.0</td>\n",
       "      <td>150.0</td>\n",
       "      <td>9.20</td>\n",
       "    </tr>\n",
       "    <tr>\n",
       "      <th>2</th>\n",
       "      <td>3</td>\n",
       "      <td>100.0</td>\n",
       "      <td>44.93</td>\n",
       "      <td>230.0</td>\n",
       "      <td>0.110</td>\n",
       "      <td>50.0</td>\n",
       "      <td>300.0</td>\n",
       "      <td>11.95</td>\n",
       "    </tr>\n",
       "    <tr>\n",
       "      <th>3</th>\n",
       "      <td>4</td>\n",
       "      <td>100.0</td>\n",
       "      <td>44.31</td>\n",
       "      <td>230.0</td>\n",
       "      <td>0.220</td>\n",
       "      <td>50.0</td>\n",
       "      <td>65.0</td>\n",
       "      <td>9.55</td>\n",
       "    </tr>\n",
       "    <tr>\n",
       "      <th>4</th>\n",
       "      <td>5</td>\n",
       "      <td>100.0</td>\n",
       "      <td>44.31</td>\n",
       "      <td>230.0</td>\n",
       "      <td>0.220</td>\n",
       "      <td>50.0</td>\n",
       "      <td>150.0</td>\n",
       "      <td>16.25</td>\n",
       "    </tr>\n",
       "    <tr>\n",
       "      <th>...</th>\n",
       "      <td>...</td>\n",
       "      <td>...</td>\n",
       "      <td>...</td>\n",
       "      <td>...</td>\n",
       "      <td>...</td>\n",
       "      <td>...</td>\n",
       "      <td>...</td>\n",
       "      <td>...</td>\n",
       "    </tr>\n",
       "    <tr>\n",
       "      <th>850</th>\n",
       "      <td>851</td>\n",
       "      <td>150.0</td>\n",
       "      <td>41.10</td>\n",
       "      <td>238.0</td>\n",
       "      <td>0.131</td>\n",
       "      <td>48.0</td>\n",
       "      <td>200.0</td>\n",
       "      <td>9.95</td>\n",
       "    </tr>\n",
       "    <tr>\n",
       "      <th>851</th>\n",
       "      <td>852</td>\n",
       "      <td>150.0</td>\n",
       "      <td>40.60</td>\n",
       "      <td>238.0</td>\n",
       "      <td>0.131</td>\n",
       "      <td>48.0</td>\n",
       "      <td>225.0</td>\n",
       "      <td>9.81</td>\n",
       "    </tr>\n",
       "    <tr>\n",
       "      <th>852</th>\n",
       "      <td>853</td>\n",
       "      <td>150.0</td>\n",
       "      <td>40.60</td>\n",
       "      <td>238.0</td>\n",
       "      <td>0.131</td>\n",
       "      <td>48.0</td>\n",
       "      <td>225.0</td>\n",
       "      <td>9.35</td>\n",
       "    </tr>\n",
       "    <tr>\n",
       "      <th>853</th>\n",
       "      <td>854</td>\n",
       "      <td>150.0</td>\n",
       "      <td>40.60</td>\n",
       "      <td>238.0</td>\n",
       "      <td>0.131</td>\n",
       "      <td>48.0</td>\n",
       "      <td>250.0</td>\n",
       "      <td>9.39</td>\n",
       "    </tr>\n",
       "    <tr>\n",
       "      <th>854</th>\n",
       "      <td>855</td>\n",
       "      <td>150.0</td>\n",
       "      <td>40.60</td>\n",
       "      <td>238.0</td>\n",
       "      <td>0.131</td>\n",
       "      <td>48.0</td>\n",
       "      <td>250.0</td>\n",
       "      <td>9.67</td>\n",
       "    </tr>\n",
       "  </tbody>\n",
       "</table>\n",
       "<p>855 rows × 8 columns</p>\n",
       "</div>"
      ],
      "text/plain": [
       "               No.   (mm)  (Mpa)  (Gpa)  (mm).1  (mm).2  (mm).3   (kN)\n",
       "0    1              100.0  40.80  230.0   0.110    50.0    75.0   5.80\n",
       "1    2              100.0  40.80  230.0   0.110    50.0   150.0   9.20\n",
       "2    3              100.0  44.93  230.0   0.110    50.0   300.0  11.95\n",
       "3    4              100.0  44.31  230.0   0.220    50.0    65.0   9.55\n",
       "4    5              100.0  44.31  230.0   0.220    50.0   150.0  16.25\n",
       "..             ...    ...    ...    ...     ...     ...     ...    ...\n",
       "850      851        150.0  41.10  238.0   0.131    48.0   200.0   9.95\n",
       "851      852        150.0  40.60  238.0   0.131    48.0   225.0   9.81\n",
       "852      853        150.0  40.60  238.0   0.131    48.0   225.0   9.35\n",
       "853      854        150.0  40.60  238.0   0.131    48.0   250.0   9.39\n",
       "854            855  150.0  40.60  238.0   0.131    48.0   250.0   9.67\n",
       "\n",
       "[855 rows x 8 columns]"
      ]
     },
     "execution_count": 4,
     "metadata": {},
     "output_type": "execute_result"
    }
   ],
   "source": [
    "dp"
   ]
  },
  {
   "cell_type": "code",
   "execution_count": 5,
   "metadata": {
    "executionInfo": {
     "elapsed": 536,
     "status": "ok",
     "timestamp": 1655223929924,
     "user": {
      "displayName": "20ad030_Prakash Raja",
      "userId": "02035033576982408941"
     },
     "user_tz": -330
    },
    "id": "o0n-l9WFBnWw"
   },
   "outputs": [],
   "source": [
    "X=dp.drop(['(kN)'],axis=1)\n",
    "y=dp['(kN)']"
   ]
  },
  {
   "cell_type": "code",
   "execution_count": 6,
   "metadata": {
    "colab": {
     "base_uri": "https://localhost:8080/"
    },
    "executionInfo": {
     "elapsed": 344,
     "status": "ok",
     "timestamp": 1655223931747,
     "user": {
      "displayName": "20ad030_Prakash Raja",
      "userId": "02035033576982408941"
     },
     "user_tz": -330
    },
    "id": "-9k7WF_pj8hO",
    "outputId": "3f2d178d-7037-4f10-a9b3-d42d1cc058bf"
   },
   "outputs": [
    {
     "data": {
      "text/plain": [
       "0.3825076726390003"
      ]
     },
     "execution_count": 6,
     "metadata": {},
     "output_type": "execute_result"
    }
   ],
   "source": [
    "clf = RandomForestRegressor(n_estimators=10, max_depth=None,min_samples_split=2, random_state=0)\n",
    "scores = cross_val_score(clf,X,y, cv=5)\n",
    "scores.mean()"
   ]
  },
  {
   "cell_type": "code",
   "execution_count": 7,
   "metadata": {
    "colab": {
     "base_uri": "https://localhost:8080/"
    },
    "executionInfo": {
     "elapsed": 1171,
     "status": "ok",
     "timestamp": 1655223935786,
     "user": {
      "displayName": "20ad030_Prakash Raja",
      "userId": "02035033576982408941"
     },
     "user_tz": -330
    },
    "id": "WjmrRUF-k9TM",
    "outputId": "e0d2c074-d215-4039-ea70-34fdf11d5d08"
   },
   "outputs": [
    {
     "data": {
      "text/plain": [
       "0.07729478428477066"
      ]
     },
     "execution_count": 7,
     "metadata": {},
     "output_type": "execute_result"
    }
   ],
   "source": [
    "clf = DecisionTreeRegressor(max_depth=None, min_samples_split=2,random_state=0)\n",
    "scores = cross_val_score(clf, X, y, cv=5)\n",
    "scores.mean()"
   ]
  },
  {
   "cell_type": "code",
   "execution_count": 8,
   "metadata": {
    "colab": {
     "base_uri": "https://localhost:8080/"
    },
    "executionInfo": {
     "elapsed": 462,
     "status": "ok",
     "timestamp": 1655223938633,
     "user": {
      "displayName": "20ad030_Prakash Raja",
      "userId": "02035033576982408941"
     },
     "user_tz": -330
    },
    "id": "BFaozY_mlIMg",
    "outputId": "6ba0bfbc-ca1d-454a-ca14-0add3a999152"
   },
   "outputs": [
    {
     "data": {
      "text/plain": [
       "0.38824652441913854"
      ]
     },
     "execution_count": 8,
     "metadata": {},
     "output_type": "execute_result"
    }
   ],
   "source": [
    "clf = ExtraTreesRegressor(n_estimators=10, max_depth=None,min_samples_split=2, random_state=0)\n",
    "scores = cross_val_score(clf, X, y, cv=5)\n",
    "scores.mean() "
   ]
  },
  {
   "cell_type": "code",
   "execution_count": 9,
   "metadata": {
    "executionInfo": {
     "elapsed": 555,
     "status": "ok",
     "timestamp": 1655223942440,
     "user": {
      "displayName": "20ad030_Prakash Raja",
      "userId": "02035033576982408941"
     },
     "user_tz": -330
    },
    "id": "TCDn7mYfn4eH"
   },
   "outputs": [],
   "source": [
    "model_1 = RandomForestRegressor()\n",
    "model_2 = DecisionTreeRegressor()\n",
    "model_3 = ExtraTreesRegressor()"
   ]
  },
  {
   "cell_type": "code",
   "execution_count": 10,
   "metadata": {
    "executionInfo": {
     "elapsed": 331,
     "status": "ok",
     "timestamp": 1655223944900,
     "user": {
      "displayName": "20ad030_Prakash Raja",
      "userId": "02035033576982408941"
     },
     "user_tz": -330
    },
    "id": "a8d0U3wroqEz"
   },
   "outputs": [],
   "source": [
    "X_train,X_test,y_train,y_test=train_test_split(X,y,test_size=0.2,random_state=42)"
   ]
  },
  {
   "cell_type": "code",
   "execution_count": 11,
   "metadata": {
    "executionInfo": {
     "elapsed": 533,
     "status": "ok",
     "timestamp": 1655223947786,
     "user": {
      "displayName": "20ad030_Prakash Raja",
      "userId": "02035033576982408941"
     },
     "user_tz": -330
    },
    "id": "RKj817QdoxKy"
   },
   "outputs": [],
   "source": [
    "from sklearn.ensemble import VotingRegressor"
   ]
  },
  {
   "cell_type": "code",
   "execution_count": 12,
   "metadata": {
    "executionInfo": {
     "elapsed": 463,
     "status": "ok",
     "timestamp": 1655223950544,
     "user": {
      "displayName": "20ad030_Prakash Raja",
      "userId": "02035033576982408941"
     },
     "user_tz": -330
    },
    "id": "GNkrENHhqvi8"
   },
   "outputs": [],
   "source": [
    "rf= RandomForestRegressor()\n",
    "dt = DecisionTreeRegressor()\n",
    "et= ExtraTreesRegressor()"
   ]
  },
  {
   "cell_type": "code",
   "execution_count": 13,
   "metadata": {
    "executionInfo": {
     "elapsed": 671,
     "status": "ok",
     "timestamp": 1655223953399,
     "user": {
      "displayName": "20ad030_Prakash Raja",
      "userId": "02035033576982408941"
     },
     "user_tz": -330
    },
    "id": "DWhuMN6OpB06"
   },
   "outputs": [],
   "source": [
    "final_model = VotingRegressor(\n",
    "    estimators=[('rf', model_1), ('dt', model_2), ('et', model_3)])\n",
    " "
   ]
  },
  {
   "cell_type": "code",
   "execution_count": 14,
   "metadata": {
    "colab": {
     "base_uri": "https://localhost:8080/"
    },
    "executionInfo": {
     "elapsed": 892,
     "status": "ok",
     "timestamp": 1655223956693,
     "user": {
      "displayName": "20ad030_Prakash Raja",
      "userId": "02035033576982408941"
     },
     "user_tz": -330
    },
    "id": "7xmDKdRQpG-2",
    "outputId": "b6cba4e6-6c36-4f2c-814a-084d688d8f0e"
   },
   "outputs": [
    {
     "data": {
      "text/plain": [
       "VotingRegressor(estimators=[('rf', RandomForestRegressor()),\n",
       "                            ('dt', DecisionTreeRegressor()),\n",
       "                            ('et', ExtraTreesRegressor())])"
      ]
     },
     "execution_count": 14,
     "metadata": {},
     "output_type": "execute_result"
    }
   ],
   "source": [
    "final_model.fit(X_train, y_train)"
   ]
  },
  {
   "cell_type": "code",
   "execution_count": 15,
   "metadata": {
    "executionInfo": {
     "elapsed": 913,
     "status": "ok",
     "timestamp": 1655223959372,
     "user": {
      "displayName": "20ad030_Prakash Raja",
      "userId": "02035033576982408941"
     },
     "user_tz": -330
    },
    "id": "y-f6bxTR_Rci"
   },
   "outputs": [],
   "source": [
    "pred_final = final_model.predict(X_test)"
   ]
  },
  {
   "cell_type": "code",
   "execution_count": 16,
   "metadata": {
    "executionInfo": {
     "elapsed": 346,
     "status": "ok",
     "timestamp": 1655223961536,
     "user": {
      "displayName": "20ad030_Prakash Raja",
      "userId": "02035033576982408941"
     },
     "user_tz": -330
    },
    "id": "B4jBb8qZ_X00"
   },
   "outputs": [],
   "source": [
    "from sklearn.metrics import r2_score\n"
   ]
  },
  {
   "cell_type": "code",
   "execution_count": 17,
   "metadata": {
    "colab": {
     "base_uri": "https://localhost:8080/"
    },
    "executionInfo": {
     "elapsed": 553,
     "status": "ok",
     "timestamp": 1655223964778,
     "user": {
      "displayName": "20ad030_Prakash Raja",
      "userId": "02035033576982408941"
     },
     "user_tz": -330
    },
    "id": "qAFleNju_ed6",
    "outputId": "e6abf6e2-6929-4c58-fb5b-b0e7b217d679"
   },
   "outputs": [
    {
     "name": "stdout",
     "output_type": "stream",
     "text": [
      "0.9555262023843727\n"
     ]
    }
   ],
   "source": [
    "print(r2_score(y_test, pred_final))"
   ]
  },
  {
   "cell_type": "code",
   "execution_count": 18,
   "metadata": {},
   "outputs": [
    {
     "data": {
      "text/plain": [
       "66      8.85\n",
       "434    20.16\n",
       "198    16.72\n",
       "212    11.75\n",
       "793     2.90\n",
       "       ...  \n",
       "211    12.50\n",
       "259     4.55\n",
       "7       5.69\n",
       "281    11.50\n",
       "155    16.95\n",
       "Name: (kN), Length: 171, dtype: float64"
      ]
     },
     "execution_count": 18,
     "metadata": {},
     "output_type": "execute_result"
    }
   ],
   "source": [
    "y_test"
   ]
  },
  {
   "cell_type": "code",
   "execution_count": 19,
   "metadata": {},
   "outputs": [
    {
     "data": {
      "text/plain": [
       "array([ 8.38176667, 20.3763    , 15.22223333, 12.2289    ,  3.96826667,\n",
       "       22.12946667, 11.92453333, 10.06293333, 21.84606667, 16.79623333,\n",
       "       11.96153333, 18.2065    , 13.04616667, 21.81286667, 21.4251    ,\n",
       "       12.1595    , 19.23273333, 22.07463333, 14.70833333,  9.89943333,\n",
       "        9.05453333, 16.8518    , 14.2014    , 33.3571    , 10.8222    ,\n",
       "        6.8137    , 39.02353333, 25.69463333, 30.81223333, 10.21496667,\n",
       "       16.72043333, 50.64243333, 17.4427    , 22.08693333, 18.26483333,\n",
       "       18.58623333, 12.23956667, 17.1501    ,  6.10223333, 47.85783333,\n",
       "       12.06926667, 19.0747    , 50.54483333,  5.08126667, 32.94966667,\n",
       "       12.32516667, 16.14436667, 49.05746667, 23.15093333, 13.3041    ,\n",
       "        9.11353333, 17.12653333,  6.1964    , 26.6579    , 18.63066667,\n",
       "        9.82536667, 12.36793333, 12.4125    ,  5.1152    , 11.51143333,\n",
       "       17.38666667, 28.51433333, 16.81433333, 17.31326667, 41.5523    ,\n",
       "        8.10716667,  8.41216667, 16.87476667, 19.7687    , 16.98076667,\n",
       "       10.47956667, 37.13396667, 12.31783333, 11.93753333, 15.17253333,\n",
       "        6.57413333, 13.87263333,  9.462     , 31.16173333,  8.6849    ,\n",
       "       17.65726667, 15.1587    ,  8.59643333, 27.06383333, 23.21143333,\n",
       "       16.35446667,  7.23966667, 26.2269    , 10.01953333, 10.15126667,\n",
       "       17.0201    , 25.79956667, 20.88693333,  6.7728    , 10.36973333,\n",
       "        9.35373333,  9.64453333, 18.8201    , 26.00276667,  5.4935    ,\n",
       "        5.07703333, 18.88416667, 17.7905    , 19.75186667, 11.61396667,\n",
       "       12.65776667, 32.6696    , 18.8509    ,  8.598     , 11.62413333,\n",
       "       13.563     , 20.73473333, 14.46956667,  8.15096667, 11.5734    ,\n",
       "       14.78803333,  9.5891    ,  8.3392    , 28.40033333, 10.59936667,\n",
       "        9.69926667, 24.6246    , 20.3469    , 40.59966667, 14.45596667,\n",
       "        7.24813333, 13.20646667,  6.5398    ,  5.76996667, 18.3078    ,\n",
       "       26.65533333, 10.94643333,  9.57063333, 11.9593    , 20.6434    ,\n",
       "       29.7754    , 20.6222    , 15.83423333,  9.40283333,  5.7964    ,\n",
       "       10.20376667, 21.63036667, 28.42566667, 17.1492    , 24.64613333,\n",
       "       13.0403    , 13.27356667, 11.9565    , 15.07433333,  9.60803333,\n",
       "       23.1666    , 11.43256667, 10.2291    , 35.659     , 21.89606667,\n",
       "       24.89523333, 45.0352    , 21.6768    , 11.3863    , 11.47893333,\n",
       "       20.02016667, 16.9604    , 17.37373333,  9.41723333, 23.98876667,\n",
       "       19.62256667, 12.25853333,  4.9473    ,  5.10766667, 11.98653333,\n",
       "       18.34183333])"
      ]
     },
     "execution_count": 19,
     "metadata": {},
     "output_type": "execute_result"
    }
   ],
   "source": [
    "pred_final"
   ]
  },
  {
   "cell_type": "code",
   "execution_count": 20,
   "metadata": {},
   "outputs": [],
   "source": [
    "import pickle\n",
    "pickle.dump(final_model,open('model1.pkl','wb'))"
   ]
  },
  {
   "cell_type": "code",
   "execution_count": 21,
   "metadata": {},
   "outputs": [],
   "source": [
    "model1 = pickle.load(open('model1.pkl','rb'))"
   ]
  },
  {
   "cell_type": "code",
   "execution_count": null,
   "metadata": {},
   "outputs": [],
   "source": []
  }
 ],
 "metadata": {
  "colab": {
   "authorship_tag": "ABX9TyMXv1mLEf7JO2nHjq77irZ4",
   "name": "Untitled19.ipynb",
   "provenance": []
  },
  "kernelspec": {
   "display_name": "Python 3.8.8 ('base')",
   "language": "python",
   "name": "python3"
  },
  "language_info": {
   "codemirror_mode": {
    "name": "ipython",
    "version": 3
   },
   "file_extension": ".py",
   "mimetype": "text/x-python",
   "name": "python",
   "nbconvert_exporter": "python",
   "pygments_lexer": "ipython3",
   "version": "3.8.8"
  },
  "vscode": {
   "interpreter": {
    "hash": "1df48d30c5a43c01ef08badc77577e4367a2b658001e256ef42cfce7e032150f"
   }
  }
 },
 "nbformat": 4,
 "nbformat_minor": 1
}
